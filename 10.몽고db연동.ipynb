{
 "cells": [
  {
   "cell_type": "markdown",
   "metadata": {},
   "source": [
    "## 05.29.금\n",
    "# MongoDB와 연동\n",
    "           \n",
    "            - pip install pymongo"
   ]
  },
  {
   "cell_type": "code",
   "execution_count": 3,
   "metadata": {},
   "outputs": [],
   "source": [
    "import pymongo\n",
    "from pymongo import MongoClient"
   ]
  },
  {
   "cell_type": "code",
   "execution_count": 5,
   "metadata": {},
   "outputs": [
    {
     "name": "stdout",
     "output_type": "stream",
     "text": [
      "MongoClient(host=['127.0.0.1:27017'], document_class=dict, tz_aware=False, connect=True)\n"
     ]
    }
   ],
   "source": [
    "#conn=pymongo.MongoClient('127.0.0.1',27017)\n",
    "conn=MongoClient(\"mongodb://127.0.0.1:27017\")\n",
    "print(conn)\n",
    "conn.close()"
   ]
  },
  {
   "cell_type": "code",
   "execution_count": 6,
   "metadata": {},
   "outputs": [
    {
     "name": "stdout",
     "output_type": "stream",
     "text": [
      "Database(MongoClient(host=['127.0.0.1:27017'], document_class=dict, tz_aware=False, connect=True), 'testdb')\n"
     ]
    }
   ],
   "source": [
    "# db연결\n",
    "conn=MongoClient(\"mongodb://127.0.0.1:27017\")\n",
    "\n",
    "\n",
    "db=conn['testdb']\n",
    "print(db)\n",
    "\n",
    "conn.close()\n"
   ]
  },
  {
   "cell_type": "code",
   "execution_count": 7,
   "metadata": {},
   "outputs": [
    {
     "name": "stdout",
     "output_type": "stream",
     "text": [
      "Collection(Database(MongoClient(host=['127.0.0.1:27017'], document_class=dict, tz_aware=False, connect=True), 'testdb'), 'articles')\n"
     ]
    }
   ],
   "source": [
    "#collection과 연결\n",
    "\n",
    "conn=MongoClient(\"mongodb://127.0.0.1:27017\")\n",
    "db=conn['testdb']\n",
    "coll=db.get_collection('articles')\n",
    "print(coll)\n",
    "conn.close()\n",
    "\n"
   ]
  },
  {
   "cell_type": "code",
   "execution_count": 12,
   "metadata": {},
   "outputs": [
    {
     "name": "stdout",
     "output_type": "stream",
     "text": [
      "7\n",
      "5ed0bdd7cb3ceda77823f4eb\n"
     ]
    },
    {
     "name": "stderr",
     "output_type": "stream",
     "text": [
      "C:\\Users\\acorn\\Anaconda3\\lib\\site-packages\\ipykernel_launcher.py:7: DeprecationWarning: count is deprecated. Use estimated_document_count or count_documents instead. Please note that $where must be replaced by $expr, $near must be replaced by $geoWithin with $center, and $nearSphere must be replaced by $geoWithin with $centerSphere\n",
      "  import sys\n"
     ]
    }
   ],
   "source": [
    "# 데이터 한개 입력\n",
    "\n",
    "conn=MongoClient(\"mongodb://127.0.0.1:27017\")\n",
    "db=conn['testdb']\n",
    "coll=db.people\n",
    "\n",
    "print(coll.count())\n",
    "\n",
    "\n",
    "#data={'author':'Mike','text':'my first blog post!','tag':['mongodb','python']}\n",
    "#coll.insert_one(data)\n",
    "#coll.insert_one(data)\n",
    "\n",
    "\n",
    "\n",
    "\n",
    "\n",
    "data={'author':'Mike','text':'my second blog post!','tag':['mongodb','python']}\n",
    "post_id=coll.insert_one(data).inserted_id\n",
    "print(post_id)\n",
    "\n",
    "\n",
    "\n",
    "conn.close()\n"
   ]
  },
  {
   "cell_type": "code",
   "execution_count": 14,
   "metadata": {},
   "outputs": [
    {
     "name": "stdout",
     "output_type": "stream",
     "text": [
      "8\n",
      "18\n"
     ]
    },
    {
     "name": "stderr",
     "output_type": "stream",
     "text": [
      "C:\\Users\\acorn\\Anaconda3\\lib\\site-packages\\ipykernel_launcher.py:7: DeprecationWarning: count is deprecated. Use estimated_document_count or count_documents instead. Please note that $where must be replaced by $expr, $near must be replaced by $geoWithin with $center, and $nearSphere must be replaced by $geoWithin with $centerSphere\n",
      "  import sys\n",
      "C:\\Users\\acorn\\Anaconda3\\lib\\site-packages\\ipykernel_launcher.py:19: DeprecationWarning: count is deprecated. Use estimated_document_count or count_documents instead. Please note that $where must be replaced by $expr, $near must be replaced by $geoWithin with $center, and $nearSphere must be replaced by $geoWithin with $centerSphere\n"
     ]
    }
   ],
   "source": [
    "#데이터 여려개 입력\n",
    "\n",
    "conn=MongoClient(\"mongodb://127.0.0.1:27017\")\n",
    "db=conn['testdb']\n",
    "coll=db.people\n",
    "\n",
    "print(coll.count())\n",
    "coll.insert_many([{'number':i} for i in range(10)])     #밑에 있는 코드를 컴프리헨션을 이용해서 간단하게!\n",
    "\n",
    "'''\n",
    "data=[]\n",
    "for i in range(10):\n",
    "    temp = {\"number\":i}\n",
    "    data.append(temp)\n",
    "    \n",
    "coll.insert_many(data)    \n",
    "'''\n",
    "\n",
    "print(coll.count())\n",
    "\n",
    "conn.close()"
   ]
  },
  {
   "cell_type": "code",
   "execution_count": 21,
   "metadata": {},
   "outputs": [
    {
     "name": "stdout",
     "output_type": "stream",
     "text": [
      "{'_id': ObjectId('5ed0a277d0595d627e10b49d'), 'age': 19.0}\n",
      "{'_id': ObjectId('5ed0a277d0595d627e10b49e'), 'name': 'Betty', 'age': 20.0}\n",
      "{'_id': ObjectId('5ed0a277d0595d627e10b49f'), 'name': 'Charlie', 'age': 23.0, 'skills': ['mongodb', 'python']}\n",
      "{'_id': ObjectId('5ed0a277d0595d627e10b4a0'), 'name': 'David', 'age': 23.0, 'score': 20.0}\n",
      "{'_id': ObjectId('5ed0a97d1cc1256a8dfe5555'), 'name': 'Elly', 'age': 17.0}\n",
      "{'_id': ObjectId('5ed0bca6cb3ceda77823f4e7'), 'author': 'Mike', 'text': 'my first blog post!', 'tag': ['mongodb', 'python']}\n",
      "{'_id': ObjectId('5ed0bdbfcb3ceda77823f4e9'), 'author': 'Mike', 'text': 'my first blog post!', 'tag': ['mongodb', 'python']}\n",
      "{'_id': ObjectId('5ed0bdd7cb3ceda77823f4eb'), 'author': 'Mike', 'text': 'my second blog post!', 'tag': ['mongodb', 'python']}\n",
      "{'_id': ObjectId('5ed0bf4fcb3ceda77823f4ee'), 'number': 0}\n",
      "{'_id': ObjectId('5ed0bf4fcb3ceda77823f4ef'), 'number': 1}\n",
      "{'_id': ObjectId('5ed0bf4fcb3ceda77823f4f0'), 'number': 2}\n",
      "{'_id': ObjectId('5ed0bf4fcb3ceda77823f4f1'), 'number': 3}\n",
      "{'_id': ObjectId('5ed0bf4fcb3ceda77823f4f2'), 'number': 4}\n",
      "{'_id': ObjectId('5ed0bf4fcb3ceda77823f4f3'), 'number': 5}\n",
      "{'_id': ObjectId('5ed0bf4fcb3ceda77823f4f4'), 'number': 6}\n",
      "{'_id': ObjectId('5ed0bf4fcb3ceda77823f4f5'), 'number': 7}\n",
      "{'_id': ObjectId('5ed0bf4fcb3ceda77823f4f6'), 'number': 8}\n",
      "{'_id': ObjectId('5ed0bf4fcb3ceda77823f4f7'), 'number': 9}\n",
      "---------------------------------\n",
      "{'_id': ObjectId('5ed0a277d0595d627e10b49e'), 'name': 'Betty', 'age': 20.0}\n",
      "---------------------------------------\n",
      "{'_id': ObjectId('5ed0a277d0595d627e10b49e'), 'name': 'Betty', 'age': 20.0}\n",
      "{'_id': ObjectId('5ed0a277d0595d627e10b49f'), 'name': 'Charlie', 'age': 23.0, 'skills': ['mongodb', 'python']}\n",
      "{'_id': ObjectId('5ed0a277d0595d627e10b4a0'), 'name': 'David', 'age': 23.0, 'score': 20.0}\n",
      "--------------------------------------------\n",
      "{'_id': ObjectId('5ed0bca6cb3ceda77823f4e7'), 'author': 'Mike', 'text': 'my first blog post!', 'tag': ['mongodb', 'python']}\n"
     ]
    }
   ],
   "source": [
    "# 조회\n",
    "\n",
    "conn=MongoClient(\"mongodb://127.0.0.1:27017\")\n",
    "db=conn['testdb']\n",
    "coll=db.people\n",
    "\n",
    "for i in coll.find():\n",
    "    print(i)\n",
    "print(\"---------------------------------\")\n",
    "    \n",
    "#age가 20인 document조회   \n",
    "for i in coll.find({'age':20}):\n",
    "    print(i)\n",
    "\n",
    "print(\"---------------------------------------\")    \n",
    "    \n",
    "\n",
    "#age가 20이상인 document조회\n",
    "for i in coll.find({\"age\":{\"$gte\":20}}):\n",
    "    print(i)\n",
    "print(\"--------------------------------------------\")\n",
    "#author가 mike인 것    \n",
    "print(coll.find_one({\"author\":\"Mike\"}))    \n",
    "    \n",
    "conn.close()"
   ]
  },
  {
   "cell_type": "code",
   "execution_count": 23,
   "metadata": {},
   "outputs": [
    {
     "name": "stdout",
     "output_type": "stream",
     "text": [
      "{'_id': ObjectId('5ed0bca6cb3ceda77823f4e7'), 'author': 'Mike', 'text': 'my third blog post!', 'tag': ['mongodb', 'python']}\n"
     ]
    }
   ],
   "source": [
    "# 데이터 수정하기\n",
    "\n",
    "conn=MongoClient(\"mongodb://127.0.0.1:27017\")\n",
    "db=conn['testdb']\n",
    "coll=db.people\n",
    " \n",
    "coll.update_one({'author':'Mike'},{'$set':{'text':'my third blog post!'}})    \n",
    "    \n",
    "print(coll.find_one({\"author\":\"Mike\"}))      \n",
    "    \n",
    "conn.close()\n",
    "\n",
    "\n",
    "\n"
   ]
  },
  {
   "cell_type": "code",
   "execution_count": null,
   "metadata": {},
   "outputs": [],
   "source": []
  },
  {
   "cell_type": "code",
   "execution_count": null,
   "metadata": {},
   "outputs": [],
   "source": []
  }
 ],
 "metadata": {
  "kernelspec": {
   "display_name": "Python 3",
   "language": "python",
   "name": "python3"
  },
  "language_info": {
   "codemirror_mode": {
    "name": "ipython",
    "version": 3
   },
   "file_extension": ".py",
   "mimetype": "text/x-python",
   "name": "python",
   "nbconvert_exporter": "python",
   "pygments_lexer": "ipython3",
   "version": "3.7.6"
  }
 },
 "nbformat": 4,
 "nbformat_minor": 4
}
